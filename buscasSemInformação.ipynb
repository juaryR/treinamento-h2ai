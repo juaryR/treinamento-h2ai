{
  "cells": [
    {
      "cell_type": "markdown",
      "metadata": {
        "id": "LiP0Li-ys593"
      },
      "source": [
        "[![Open In Colab](https://colab.research.google.com/assets/colab-badge.svg)](https://colab.research.google.com/github/juaryR/treinamento-h2ai/blob/initial/buscasSemInforma%C3%A7%C3%A3o.ipynb)"
      ]
    },
    {
      "cell_type": "markdown",
      "metadata": {
        "id": "21uUELma0562"
      },
      "source": [
        "# O Problema\n",
        "Sliding Puzzle - Bloco Deslizante"
      ]
    },
    {
      "cell_type": "code",
      "execution_count": 1,
      "metadata": {
        "colab": {
          "base_uri": "https://localhost:8080/",
          "height": 217
        },
        "id": "duRbJW3rz01L",
        "outputId": "48b19c84-b2e3-4470-c899-11a49d641b0b"
      },
      "outputs": [
        {
          "output_type": "execute_result",
          "data": {
            "text/plain": [
              "<IPython.core.display.Image object>"
            ],
            "text/html": [
              "<img src=\"https://miro.medium.com/max/700/1*W7jg4GmEjGBypd9WPktasQ.gif\" width=\"200\"/>"
            ]
          },
          "metadata": {},
          "execution_count": 1
        }
      ],
      "source": [
        "# !wget -qq https://miro.medium.com/max/700/1*W7jg4GmEjGBypd9WPktasQ.gif\n",
        "from IPython.display import Image\n",
        "Image(url='https://miro.medium.com/max/700/1*W7jg4GmEjGBypd9WPktasQ.gif',width=200)"
      ]
    },
    {
      "cell_type": "markdown",
      "metadata": {
        "id": "f6TPxqB-1Cwx"
      },
      "source": [
        "# Resolver o quebra-cabeças usando Buscas"
      ]
    },
    {
      "cell_type": "code",
      "source": [
        "import numpy as np\n",
        "\n",
        "class Board:\n",
        "\n",
        "    def __init__(self, state, parent=None, operator=None, depth=0):\n",
        "        self.parent = parent\n",
        "        self.state = np.array(state)\n",
        "        self.operator = operator\n",
        "        self.depth = depth\n",
        "        self.zero = self.index_vazio()\n",
        "\n",
        "    def objetivo(self):\n",
        "        return np.array_equal(self.state, [1,2,3,4,5,6,7,8,0])\n",
        "\n",
        "    def index_vazio(self):\n",
        "         return self.state.tolist().index(0)\n",
        "           \n",
        "    def trocarValores(self, i, j):\n",
        "        new_state = np.array(self.state)\n",
        "        new_state[i], new_state[j] = new_state[j], new_state[i]\n",
        "        return new_state\n",
        "\n",
        "    def praCima(self):\n",
        "        if self.zero > 2:\n",
        "            return Board(self.trocarValores(self.zero, self.zero - 3), self, 'Up', self.depth + 1)\n",
        "        else:\n",
        "            return None\n",
        "\n",
        "    def praBaixo(self):\n",
        "        if self.zero < 6:\n",
        "            return Board(self.trocarValores(self.zero, self.zero + 3), self, 'Down', self.depth + 1)\n",
        "        else:\n",
        "            return None\n",
        "\n",
        "    def esquerda(self):\n",
        "        if self.zero % 3 != 0:\n",
        "            return Board(self.trocarValores(self.zero, self.zero - 1), self, 'Left', self.depth + 1)\n",
        "        else:\n",
        "            return None\n",
        "\n",
        "    def direita(self):\n",
        "        if (self.zero + 1) % 3 != 0:\n",
        "            return Board(self.trocarValores(self.zero, self.zero + 1), self, 'Right', self.depth + 1)\n",
        "        else:\n",
        "            return None\n",
        "\n",
        "\n",
        "    def vizinhos(self):\n",
        "        vizinho = [self.praCima(), self.praBaixo(), self.esquerda(), self.direita()]\n",
        "        return list(filter(None, vizinho))\n",
        "\n",
        "    def __repr__(self):\n",
        "       return str(self.state[:3]) + '\\n' \\\n",
        "               + str(self.state[3:6]) + '\\n' \\\n",
        "               + str(self.state[6:]) \n"
      ],
      "metadata": {
        "id": "gzgz20Rig2r4"
      },
      "execution_count": 2,
      "outputs": []
    },
    {
      "cell_type": "code",
      "source": [
        "p = Board(np.array([1,2,3,4,5,6,7,0,8]))\n",
        "p.zero"
      ],
      "metadata": {
        "colab": {
          "base_uri": "https://localhost:8080/"
        },
        "id": "GUacdk42YJh0",
        "outputId": "ba80d69d-eb13-4b09-eb98-f64be61d39eb"
      },
      "execution_count": 3,
      "outputs": [
        {
          "output_type": "execute_result",
          "data": {
            "text/plain": [
              "7"
            ]
          },
          "metadata": {},
          "execution_count": 3
        }
      ]
    },
    {
      "cell_type": "code",
      "source": [
        "a = np.array([1,2,3,4,5,6,7,0,8])"
      ],
      "metadata": {
        "id": "2mDVtyp1eLW_"
      },
      "execution_count": 4,
      "outputs": []
    },
    {
      "cell_type": "code",
      "source": [
        "p.depth"
      ],
      "metadata": {
        "colab": {
          "base_uri": "https://localhost:8080/"
        },
        "id": "C3Wl9GYfqefp",
        "outputId": "be0789b4-b43b-4169-ade7-ad1e4e49049d"
      },
      "execution_count": 5,
      "outputs": [
        {
          "output_type": "execute_result",
          "data": {
            "text/plain": [
              "0"
            ]
          },
          "metadata": {},
          "execution_count": 5
        }
      ]
    },
    {
      "cell_type": "code",
      "source": [
        "np.arange(9)"
      ],
      "metadata": {
        "id": "okGO_OV3k1G0",
        "outputId": "b895c5b6-b968-46b3-ed40-d600ac705c0d",
        "colab": {
          "base_uri": "https://localhost:8080/"
        }
      },
      "execution_count": null,
      "outputs": [
        {
          "output_type": "execute_result",
          "data": {
            "text/plain": [
              "array([0, 1, 2, 3, 4, 5, 6, 7, 8])"
            ]
          },
          "metadata": {},
          "execution_count": 47
        }
      ]
    },
    {
      "cell_type": "markdown",
      "metadata": {
        "id": "o6ZClGCC1RxB"
      },
      "source": [
        "## Busca em largura"
      ]
    },
    {
      "cell_type": "code",
      "execution_count": 6,
      "metadata": {
        "id": "cmJfg8CF0Jwc"
      },
      "outputs": [],
      "source": [
        "def DFS(initial_state):\n",
        "  explored_nodes = set()\n",
        "  frontier = []\n",
        "  max_depth = 0\n",
        "  frontier.append(initial_state)\n",
        "  count = 0 \n",
        "  while frontier:\n",
        "    board = frontier.pop()\n",
        "    explored_nodes.add(tuple(board.state))\n",
        "    if board.objetivo():\n",
        "      solution = board\n",
        "      break\n",
        "    for vizinho in board.vizinhos()[::-1]:\n",
        "          if tuple(vizinho.state) not in explored_nodes:\n",
        "            frontier.append(vizinho)\n",
        "            explored_nodes.add(tuple(vizinho.state))\n",
        "            max_depth = max(max_depth, vizinho.depth)\n",
        "    expand_nodes  = len(explored_nodes) - (len(frontier) - 1)\n",
        "  return {'expand_nodes': expand_nodes,'max_depth': max_depth}"
      ]
    },
    {
      "cell_type": "code",
      "source": [
        "DFS(p)"
      ],
      "metadata": {
        "id": "hWTAjqpYhj48",
        "outputId": "faf8061a-786c-4095-8234-6c8c28980378",
        "colab": {
          "base_uri": "https://localhost:8080/"
        }
      },
      "execution_count": 7,
      "outputs": [
        {
          "output_type": "execute_result",
          "data": {
            "text/plain": [
              "{'expand_nodes': 181440, 'max_depth': 66123}"
            ]
          },
          "metadata": {},
          "execution_count": 7
        }
      ]
    },
    {
      "cell_type": "markdown",
      "metadata": {
        "id": "zCCoey-J1U5t"
      },
      "source": [
        "## Busca em Profundidade"
      ]
    },
    {
      "cell_type": "code",
      "source": [
        "from collections import deque\n",
        "\n",
        "def BFS(initial_state):\n",
        "  explored_nodes = set()\n",
        "  max_depth = 0\n",
        "  frontier = deque()\n",
        "  frontier.append(initial_state)\n",
        "  while frontier:\n",
        "    board = frontier.popleft()\n",
        "    explored_nodes.add(tuple(board.state))\n",
        "    if board.objetivo():\n",
        "       solution = board\n",
        "       break\n",
        "    for vizinho in board.vizinhos():\n",
        "      if tuple(vizinho.state) not in explored_nodes:\n",
        "             frontier.append(vizinho)\n",
        "             explored_nodes.add(tuple(vizinho.state))\n",
        "             max_depth = max(max_depth, vizinho.depth)\n",
        "    expand_nodes  = len(explored_nodes) - (len(frontier) - 1)\n",
        "  return {'expand_nodes': expand_nodes,'max_depth': max_depth}"
      ],
      "metadata": {
        "id": "OnwS3K1DAJJo"
      },
      "execution_count": 13,
      "outputs": []
    },
    {
      "cell_type": "code",
      "source": [
        "BFS(p)"
      ],
      "metadata": {
        "id": "D3wO3-bBgfeQ",
        "outputId": "54d62474-4449-4790-eca8-24362523e05f",
        "colab": {
          "base_uri": "https://localhost:8080/"
        }
      },
      "execution_count": 14,
      "outputs": [
        {
          "output_type": "execute_result",
          "data": {
            "text/plain": [
              "{'expand_nodes': 4, 'max_depth': 2}"
            ]
          },
          "metadata": {},
          "execution_count": 14
        }
      ]
    },
    {
      "cell_type": "markdown",
      "metadata": {
        "id": "rXU5HkCd1ZPu"
      },
      "source": [
        "## Discorra sobre o desempenho dos métodos em questões de:\n",
        "\n",
        "\n",
        "1.   Consumo de memória\n",
        "2.   Processamento\n",
        "\n"
      ]
    },
    {
      "cell_type": "code",
      "execution_count": null,
      "metadata": {
        "id": "-M6rztKu1W1j"
      },
      "outputs": [],
      "source": [
        ""
      ]
    },
    {
      "cell_type": "markdown",
      "source": [
        "## Referência \n"
      ],
      "metadata": {
        "id": "3kjMKfs5xRXk"
      }
    },
    {
      "cell_type": "markdown",
      "source": [
        "[8-puzzle-problem-using-branch-and-bound](https://www.geeksforgeeks.org/8-puzzle-problem-using-branch-and-bound/)\n",
        "\n",
        "[ state-space-and-uninformed-search ](https://www.ics.uci.edu/~dechter/courses/ics-271/fall-12/lecture-notes/02-state-space-and-uninformed-search.pdf)\n"
      ],
      "metadata": {
        "id": "NClHZ209b1Up"
      }
    },
    {
      "cell_type": "code",
      "source": [
        ""
      ],
      "metadata": {
        "id": "hKTCTK__xUY9"
      },
      "execution_count": null,
      "outputs": []
    },
    {
      "cell_type": "markdown",
      "source": [
        "### Leituras\n",
        "\n",
        "[Buscas - Resumido](https://ricardomatsumura.medium.com/algoritmos-de-busca-para-intelig%C3%AAncia-artificial-7cb81172396c)\n",
        "\n",
        "\n",
        "### Vídeos\n",
        "\n",
        "[Representação do Conhecimento](https://www.youtube.com/watch?v=V-O-RFSRe-E)\n",
        "\n",
        "[Busca em Largura](https://www.youtube.com/watch?v=KiCBXu4P-2Y)\n",
        "\n",
        "[Busca em Profundidade](https://www.youtube.com/watch?v=KiCBXu4P-2Y)\n"
      ],
      "metadata": {
        "id": "yM69iildxVIW"
      }
    }
  ],
  "metadata": {
    "colab": {
      "name": "Modelo Relatório - Buscas sem informação.ipynb",
      "provenance": []
    },
    "kernelspec": {
      "display_name": "Python 3",
      "name": "python3"
    },
    "language_info": {
      "name": "python"
    }
  },
  "nbformat": 4,
  "nbformat_minor": 0
}