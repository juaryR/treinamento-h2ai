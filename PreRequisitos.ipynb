{
  "nbformat": 4,
  "nbformat_minor": 0,
  "metadata": {
    "colab": {
      "name": "PreRequisitos.ipynb",
      "provenance": [],
      "collapsed_sections": []
    },
    "kernelspec": {
      "name": "python3",
      "display_name": "Python 3"
    },
    "language_info": {
      "name": "python"
    }
  },
  "cells": [
    {
      "cell_type": "markdown",
      "source": [
        "[![Open In Colab](https://colab.research.google.com/assets/colab-badge.svg)](https://colab.research.google.com/github/juaryR/treinamento-h2ai/blob/main/PreRequisitos.ipynb)"
      ],
      "metadata": {
        "id": "tsJ1dc5ApwZE"
      }
    },
    {
      "cell_type": "markdown",
      "source": [
        "# Data structures"
      ],
      "metadata": {
        "id": "frB1eKjZwL5N"
      }
    },
    {
      "cell_type": "markdown",
      "source": [
        "Data structures are the fundamental constructs around which you build your programs.\n",
        "\n"
      ],
      "metadata": {
        "id": "hZtKZtMpwS2Y"
      }
    },
    {
      "cell_type": "markdown",
      "source": [
        "##  Dictionaries"
      ],
      "metadata": {
        "id": "iAyqAfsNwZFH"
      }
    },
    {
      "cell_type": "markdown",
      "source": [
        "### Dict"
      ],
      "metadata": {
        "id": "-WLeTnDD4QAp"
      }
    },
    {
      "cell_type": "code",
      "execution_count": null,
      "metadata": {
        "id": "XCYACtWwm4fC"
      },
      "outputs": [],
      "source": [
        "phonebook  = {\n",
        "    \"bob\": 7387,\n",
        "    \"alice\":3719,\n",
        "    \"jack\": 7052,\n",
        "}\n",
        "squares = {x: x*x for x in range(6)}"
      ]
    },
    {
      "cell_type": "code",
      "source": [
        "phonebook['alice']"
      ],
      "metadata": {
        "colab": {
          "base_uri": "https://localhost:8080/"
        },
        "id": "lhGNlNJhwLiz",
        "outputId": "b65f7859-3f11-4244-961b-fa57afd750bb"
      },
      "execution_count": null,
      "outputs": [
        {
          "output_type": "execute_result",
          "data": {
            "text/plain": [
              "3719"
            ]
          },
          "metadata": {},
          "execution_count": 4
        }
      ]
    },
    {
      "cell_type": "code",
      "source": [
        "squares"
      ],
      "metadata": {
        "colab": {
          "base_uri": "https://localhost:8080/"
        },
        "id": "BMDE5MCjxLNG",
        "outputId": "0ddfa56f-c459-42bc-942f-410a3ce3dd27"
      },
      "execution_count": null,
      "outputs": [
        {
          "output_type": "execute_result",
          "data": {
            "text/plain": [
              "{0: 0, 1: 1, 2: 4, 3: 9, 4: 16, 5: 25}"
            ]
          },
          "metadata": {},
          "execution_count": 5
        }
      ]
    },
    {
      "cell_type": "markdown",
      "source": [
        "Python’s dictionaries are indexed by keys that can be of any hashable type. A hashable object has a hash value that never changes during its lifetime (see __hash__), and it can be compared to other objects (see __eq__). Hashable objects that compare as equal must have the same hash value."
      ],
      "metadata": {
        "id": "qvnkYWQexWET"
      }
    },
    {
      "cell_type": "markdown",
      "source": [
        "### Collections"
      ],
      "metadata": {
        "id": "iJXoz8ksyBOZ"
      }
    },
    {
      "cell_type": "markdown",
      "source": [
        "#### OrderedDict "
      ],
      "metadata": {
        "id": "Wwukxfl5zXfs"
      }
    },
    {
      "cell_type": "markdown",
      "source": [
        "Python includes a specialized dict subclass that remembers the insertion order of keys added to it: collections.OrderedDict."
      ],
      "metadata": {
        "id": "XTYQtafJyeCr"
      }
    },
    {
      "cell_type": "code",
      "source": [
        "from collections import OrderedDict\n",
        "d = OrderedDict(one=1, two=2, three=3) \n",
        "d"
      ],
      "metadata": {
        "colab": {
          "base_uri": "https://localhost:8080/"
        },
        "id": "Qx_knvCAx_mC",
        "outputId": "ea9d8463-9565-4942-d83d-2cacf8d1d5ed"
      },
      "execution_count": null,
      "outputs": [
        {
          "output_type": "execute_result",
          "data": {
            "text/plain": [
              "OrderedDict([('one', 1), ('two', 2), ('three', 3)])"
            ]
          },
          "metadata": {},
          "execution_count": 9
        }
      ]
    },
    {
      "cell_type": "code",
      "source": [
        "d[\"four\"] = 4\n",
        "d"
      ],
      "metadata": {
        "colab": {
          "base_uri": "https://localhost:8080/"
        },
        "id": "8_AK_EoGyyWr",
        "outputId": "e2a78c1f-af5d-4d6d-fa99-03aa595cb2a3"
      },
      "execution_count": null,
      "outputs": [
        {
          "output_type": "execute_result",
          "data": {
            "text/plain": [
              "OrderedDict([('one', 1), ('two', 2), ('three', 3), ('four', 4)])"
            ]
          },
          "metadata": {},
          "execution_count": 10
        }
      ]
    },
    {
      "cell_type": "code",
      "source": [
        "d.keys()"
      ],
      "metadata": {
        "colab": {
          "base_uri": "https://localhost:8080/"
        },
        "id": "yv4JwLpZy7Uj",
        "outputId": "0d79ecdf-900f-4a61-fb9e-8dcedf59801b"
      },
      "execution_count": null,
      "outputs": [
        {
          "output_type": "execute_result",
          "data": {
            "text/plain": [
              "odict_keys(['one', 'two', 'three', 'four'])"
            ]
          },
          "metadata": {},
          "execution_count": 11
        }
      ]
    },
    {
      "cell_type": "markdown",
      "source": [
        "#### defauldict"
      ],
      "metadata": {
        "id": "pV526GuczbeA"
      }
    },
    {
      "cell_type": "markdown",
      "source": [
        "The defaultdict class is another dictionary subclass that accepts a callable in its constructor whose return value will be used if a requested key cannot be found."
      ],
      "metadata": {
        "id": "6gQD7Mjgzkc8"
      }
    },
    {
      "cell_type": "code",
      "source": [
        "from collections import defaultdict\n",
        "dd = defaultdict(list)\n",
        "# Accessing a missing key creates it and\n",
        "# initializes it using the default factory,\n",
        "# i.e. list() in this example:\n",
        "dd[\"dogs\"].append(\"Rufus\")\n",
        "dd[\"dogs\"].append(\"Kathrin\")\n",
        "dd[\"dogs\"].append(\"Mr Sniffles\")\n",
        "dd[\"dogs\"]"
      ],
      "metadata": {
        "colab": {
          "base_uri": "https://localhost:8080/"
        },
        "id": "8NPwUn0JxNRf",
        "outputId": "128f409f-e0c4-4290-c19b-be6cc977696c"
      },
      "execution_count": null,
      "outputs": [
        {
          "output_type": "execute_result",
          "data": {
            "text/plain": [
              "['Rufus', 'Kathrin', 'Mr Sniffles']"
            ]
          },
          "metadata": {},
          "execution_count": 12
        }
      ]
    },
    {
      "cell_type": "markdown",
      "source": [
        "#### ChainMap  "
      ],
      "metadata": {
        "id": "_rgUb6FS1TJE"
      }
    },
    {
      "cell_type": "markdown",
      "source": [
        "The collections.ChainMap data structure groups multiple dictionaries into a single mapping. Lookups search the underlying mappings one by one until a key is found. "
      ],
      "metadata": {
        "id": "-BGXxVqf1au1"
      }
    },
    {
      "cell_type": "code",
      "source": [
        "from collections import ChainMap\n",
        "dict1 = {\"one\": 1, \"two\": 2}\n",
        "dict2 = {\"three\": 3, \"four\": 4}\n",
        "chain = ChainMap(dict1, dict2)\n",
        "print(chain)\n",
        "# ChainMap searches each collection in the chain\n",
        "# from left to right until it finds the key (or fails):\n",
        "print(chain[\"three\"])\n",
        "print(chain[\"one\"])\n",
        "print(chain[\"missing\"])"
      ],
      "metadata": {
        "colab": {
          "base_uri": "https://localhost:8080/",
          "height": 401
        },
        "id": "B3JE1Tax1BLY",
        "outputId": "1eb123c9-e5c4-40a0-8f54-dc1d10bd98d7"
      },
      "execution_count": null,
      "outputs": [
        {
          "output_type": "stream",
          "name": "stdout",
          "text": [
            "ChainMap({'one': 1, 'two': 2}, {'three': 3, 'four': 4})\n",
            "3\n",
            "1\n"
          ]
        },
        {
          "output_type": "error",
          "ename": "KeyError",
          "evalue": "ignored",
          "traceback": [
            "\u001b[0;31m---------------------------------------------------------------------------\u001b[0m",
            "\u001b[0;31mKeyError\u001b[0m                                  Traceback (most recent call last)",
            "\u001b[0;32m<ipython-input-17-441bbe54959f>\u001b[0m in \u001b[0;36m<module>\u001b[0;34m()\u001b[0m\n\u001b[1;32m      8\u001b[0m \u001b[0mprint\u001b[0m\u001b[0;34m(\u001b[0m\u001b[0mchain\u001b[0m\u001b[0;34m[\u001b[0m\u001b[0;34m\"three\"\u001b[0m\u001b[0;34m]\u001b[0m\u001b[0;34m)\u001b[0m\u001b[0;34m\u001b[0m\u001b[0;34m\u001b[0m\u001b[0m\n\u001b[1;32m      9\u001b[0m \u001b[0mprint\u001b[0m\u001b[0;34m(\u001b[0m\u001b[0mchain\u001b[0m\u001b[0;34m[\u001b[0m\u001b[0;34m\"one\"\u001b[0m\u001b[0;34m]\u001b[0m\u001b[0;34m)\u001b[0m\u001b[0;34m\u001b[0m\u001b[0;34m\u001b[0m\u001b[0m\n\u001b[0;32m---> 10\u001b[0;31m \u001b[0mprint\u001b[0m\u001b[0;34m(\u001b[0m\u001b[0mchain\u001b[0m\u001b[0;34m[\u001b[0m\u001b[0;34m\"missing\"\u001b[0m\u001b[0;34m]\u001b[0m\u001b[0;34m)\u001b[0m\u001b[0;34m\u001b[0m\u001b[0;34m\u001b[0m\u001b[0m\n\u001b[0m",
            "\u001b[0;32m/usr/lib/python3.7/collections/__init__.py\u001b[0m in \u001b[0;36m__getitem__\u001b[0;34m(self, key)\u001b[0m\n\u001b[1;32m    914\u001b[0m             \u001b[0;32mexcept\u001b[0m \u001b[0mKeyError\u001b[0m\u001b[0;34m:\u001b[0m\u001b[0;34m\u001b[0m\u001b[0;34m\u001b[0m\u001b[0m\n\u001b[1;32m    915\u001b[0m                 \u001b[0;32mpass\u001b[0m\u001b[0;34m\u001b[0m\u001b[0;34m\u001b[0m\u001b[0m\n\u001b[0;32m--> 916\u001b[0;31m         \u001b[0;32mreturn\u001b[0m \u001b[0mself\u001b[0m\u001b[0;34m.\u001b[0m\u001b[0m__missing__\u001b[0m\u001b[0;34m(\u001b[0m\u001b[0mkey\u001b[0m\u001b[0;34m)\u001b[0m            \u001b[0;31m# support subclasses that define __missing__\u001b[0m\u001b[0;34m\u001b[0m\u001b[0;34m\u001b[0m\u001b[0m\n\u001b[0m\u001b[1;32m    917\u001b[0m \u001b[0;34m\u001b[0m\u001b[0m\n\u001b[1;32m    918\u001b[0m     \u001b[0;32mdef\u001b[0m \u001b[0mget\u001b[0m\u001b[0;34m(\u001b[0m\u001b[0mself\u001b[0m\u001b[0;34m,\u001b[0m \u001b[0mkey\u001b[0m\u001b[0;34m,\u001b[0m \u001b[0mdefault\u001b[0m\u001b[0;34m=\u001b[0m\u001b[0;32mNone\u001b[0m\u001b[0;34m)\u001b[0m\u001b[0;34m:\u001b[0m\u001b[0;34m\u001b[0m\u001b[0;34m\u001b[0m\u001b[0m\n",
            "\u001b[0;32m/usr/lib/python3.7/collections/__init__.py\u001b[0m in \u001b[0;36m__missing__\u001b[0;34m(self, key)\u001b[0m\n\u001b[1;32m    906\u001b[0m \u001b[0;34m\u001b[0m\u001b[0m\n\u001b[1;32m    907\u001b[0m     \u001b[0;32mdef\u001b[0m \u001b[0m__missing__\u001b[0m\u001b[0;34m(\u001b[0m\u001b[0mself\u001b[0m\u001b[0;34m,\u001b[0m \u001b[0mkey\u001b[0m\u001b[0;34m)\u001b[0m\u001b[0;34m:\u001b[0m\u001b[0;34m\u001b[0m\u001b[0;34m\u001b[0m\u001b[0m\n\u001b[0;32m--> 908\u001b[0;31m         \u001b[0;32mraise\u001b[0m \u001b[0mKeyError\u001b[0m\u001b[0;34m(\u001b[0m\u001b[0mkey\u001b[0m\u001b[0;34m)\u001b[0m\u001b[0;34m\u001b[0m\u001b[0;34m\u001b[0m\u001b[0m\n\u001b[0m\u001b[1;32m    909\u001b[0m \u001b[0;34m\u001b[0m\u001b[0m\n\u001b[1;32m    910\u001b[0m     \u001b[0;32mdef\u001b[0m \u001b[0m__getitem__\u001b[0m\u001b[0;34m(\u001b[0m\u001b[0mself\u001b[0m\u001b[0;34m,\u001b[0m \u001b[0mkey\u001b[0m\u001b[0;34m)\u001b[0m\u001b[0;34m:\u001b[0m\u001b[0;34m\u001b[0m\u001b[0;34m\u001b[0m\u001b[0m\n",
            "\u001b[0;31mKeyError\u001b[0m: 'missing'"
          ]
        }
      ]
    },
    {
      "cell_type": "markdown",
      "source": [
        "## types"
      ],
      "metadata": {
        "id": "amEgzLnU2eSD"
      }
    },
    {
      "cell_type": "markdown",
      "source": [
        "### MappingProxyType"
      ],
      "metadata": {
        "id": "T1ndkIWe2kFt"
      }
    },
    {
      "cell_type": "code",
      "source": [
        "from types import MappingProxyType\n",
        "writable = {\"one\": 1, \"two\": 2}\n",
        "read_only = MappingProxyType(writable)\n",
        "# The proxy is read-only:\n",
        "print(read_only[\"one\"])\n",
        "read_only[\"one\"] = 23\n"
      ],
      "metadata": {
        "colab": {
          "base_uri": "https://localhost:8080/",
          "height": 256
        },
        "id": "4aMaCIzG2jrH",
        "outputId": "1cf512a1-67c4-482f-871b-d817cae50a99"
      },
      "execution_count": null,
      "outputs": [
        {
          "output_type": "stream",
          "name": "stdout",
          "text": [
            "1\n"
          ]
        },
        {
          "output_type": "error",
          "ename": "TypeError",
          "evalue": "ignored",
          "traceback": [
            "\u001b[0;31m---------------------------------------------------------------------------\u001b[0m",
            "\u001b[0;31mTypeError\u001b[0m                                 Traceback (most recent call last)",
            "\u001b[0;32m<ipython-input-20-4e07d138c923>\u001b[0m in \u001b[0;36m<module>\u001b[0;34m()\u001b[0m\n\u001b[1;32m      4\u001b[0m \u001b[0;31m# The proxy is read-only:\u001b[0m\u001b[0;34m\u001b[0m\u001b[0;34m\u001b[0m\u001b[0;34m\u001b[0m\u001b[0m\n\u001b[1;32m      5\u001b[0m \u001b[0mprint\u001b[0m\u001b[0;34m(\u001b[0m\u001b[0mread_only\u001b[0m\u001b[0;34m[\u001b[0m\u001b[0;34m\"one\"\u001b[0m\u001b[0;34m]\u001b[0m\u001b[0;34m)\u001b[0m\u001b[0;34m\u001b[0m\u001b[0;34m\u001b[0m\u001b[0m\n\u001b[0;32m----> 6\u001b[0;31m \u001b[0mread_only\u001b[0m\u001b[0;34m[\u001b[0m\u001b[0;34m\"one\"\u001b[0m\u001b[0;34m]\u001b[0m \u001b[0;34m=\u001b[0m \u001b[0;36m23\u001b[0m\u001b[0;34m\u001b[0m\u001b[0;34m\u001b[0m\u001b[0m\n\u001b[0m\u001b[1;32m      7\u001b[0m \u001b[0;31m# Updates to the original are reflected in the proxy:\u001b[0m\u001b[0;34m\u001b[0m\u001b[0;34m\u001b[0m\u001b[0;34m\u001b[0m\u001b[0m\n\u001b[1;32m      8\u001b[0m \u001b[0mwritable\u001b[0m\u001b[0;34m[\u001b[0m\u001b[0;34m\"one\"\u001b[0m\u001b[0;34m]\u001b[0m \u001b[0;34m=\u001b[0m \u001b[0;36m42\u001b[0m\u001b[0;34m\u001b[0m\u001b[0;34m\u001b[0m\u001b[0m\n",
            "\u001b[0;31mTypeError\u001b[0m: 'mappingproxy' object does not support item assignment"
          ]
        }
      ]
    },
    {
      "cell_type": "code",
      "source": [
        "# Updates to the original are reflected in the proxy:\n",
        "writable[\"one\"] = 42\n",
        "read_only"
      ],
      "metadata": {
        "colab": {
          "base_uri": "https://localhost:8080/"
        },
        "id": "wVcwMe1k2fxW",
        "outputId": "928338e3-9569-4567-ef95-c64c994d6ec2"
      },
      "execution_count": null,
      "outputs": [
        {
          "output_type": "execute_result",
          "data": {
            "text/plain": [
              "mappingproxy({'one': 42, 'two': 2})"
            ]
          },
          "metadata": {},
          "execution_count": 21
        }
      ]
    },
    {
      "cell_type": "markdown",
      "source": [
        "### Dictionaries in Python: Summary"
      ],
      "metadata": {
        "id": "pSe324nO3rTC"
      }
    },
    {
      "cell_type": "markdown",
      "source": [
        "All the Python dictionary implementations listed in this tutorial are valid implementations that are built into the Python standard library.\n",
        "\n",
        "If you’re looking for a general recommendation on which mapping type to use in your programs, I’d point you to the built-in dict data type. It’s a versatile and optimized hash table implementation that’s built directly into the core language."
      ],
      "metadata": {
        "id": "CSNqsMHd3zUd"
      }
    },
    {
      "cell_type": "markdown",
      "source": [
        "## Array Data Structures"
      ],
      "metadata": {
        "id": "ZJh-2No_36KO"
      }
    },
    {
      "cell_type": "markdown",
      "source": [
        "### array"
      ],
      "metadata": {
        "id": "0rvN9na76hMy"
      }
    },
    {
      "cell_type": "markdown",
      "source": [
        "Python’s array module provides space-efficient storage of basic C-style data types like bytes, 32-bit integers, floating-point numbers, and so on."
      ],
      "metadata": {
        "id": "DMdl1E4R6ltK"
      }
    },
    {
      "cell_type": "code",
      "source": [
        "import array\n",
        "arr = array.array(\"f\", (1.0, 1.5, 2.0, 2.5))\n",
        "print(arr[1])\n",
        "# Arrays have a nice repr:\n",
        "print(arr)\n",
        "# Arrays are mutable:\n",
        "arr[1] = 23.0\n",
        "print(arr)\n",
        "del arr[1]\n",
        "print(arr)\n",
        "arr.append(42.0)\n",
        "print(arr)\n",
        "# Arrays are \"typed\":\n",
        "arr[1] = \"hello\""
      ],
      "metadata": {
        "colab": {
          "base_uri": "https://localhost:8080/",
          "height": 291
        },
        "id": "A5A1cpOl3-zO",
        "outputId": "5b26e991-113a-4227-d848-492c273d580e"
      },
      "execution_count": null,
      "outputs": [
        {
          "output_type": "stream",
          "name": "stdout",
          "text": [
            "1.5\n",
            "array('f', [1.0, 1.5, 2.0, 2.5])\n",
            "array('f', [1.0, 23.0, 2.0, 2.5])\n",
            "array('f', [1.0, 2.0, 2.5])\n",
            "array('f', [1.0, 2.0, 2.5, 42.0])\n"
          ]
        },
        {
          "output_type": "error",
          "ename": "TypeError",
          "evalue": "ignored",
          "traceback": [
            "\u001b[0;31m---------------------------------------------------------------------------\u001b[0m",
            "\u001b[0;31mTypeError\u001b[0m                                 Traceback (most recent call last)",
            "\u001b[0;32m<ipython-input-27-9888f882e99b>\u001b[0m in \u001b[0;36m<module>\u001b[0;34m()\u001b[0m\n\u001b[1;32m     12\u001b[0m \u001b[0mprint\u001b[0m\u001b[0;34m(\u001b[0m\u001b[0marr\u001b[0m\u001b[0;34m)\u001b[0m\u001b[0;34m\u001b[0m\u001b[0;34m\u001b[0m\u001b[0m\n\u001b[1;32m     13\u001b[0m \u001b[0;31m# Arrays are \"typed\":\u001b[0m\u001b[0;34m\u001b[0m\u001b[0;34m\u001b[0m\u001b[0;34m\u001b[0m\u001b[0m\n\u001b[0;32m---> 14\u001b[0;31m \u001b[0marr\u001b[0m\u001b[0;34m[\u001b[0m\u001b[0;36m1\u001b[0m\u001b[0;34m]\u001b[0m \u001b[0;34m=\u001b[0m \u001b[0;34m\"hello\"\u001b[0m\u001b[0;34m\u001b[0m\u001b[0;34m\u001b[0m\u001b[0m\n\u001b[0m",
            "\u001b[0;31mTypeError\u001b[0m: must be real number, not str"
          ]
        }
      ]
    },
    {
      "cell_type": "markdown",
      "source": [
        "## Scientific Python "
      ],
      "metadata": {
        "id": "BtnHQjmtJCfu"
      }
    },
    {
      "cell_type": "code",
      "source": [
        "!wget https://raw.githubusercontent.com/IanHawke/maths-with-python/master/southampton_precip.txt"
      ],
      "metadata": {
        "id": "5Jfx8I3jJE-E",
        "outputId": "bc4925fc-75c7-4196-a775-c842de97a458",
        "colab": {
          "base_uri": "https://localhost:8080/"
        }
      },
      "execution_count": null,
      "outputs": [
        {
          "output_type": "stream",
          "name": "stdout",
          "text": [
            "--2022-04-11 18:16:52--  https://raw.githubusercontent.com/IanHawke/maths-with-python/master/southampton_precip.txt\n",
            "Resolving raw.githubusercontent.com (raw.githubusercontent.com)... 185.199.108.133, 185.199.109.133, 185.199.110.133, ...\n",
            "Connecting to raw.githubusercontent.com (raw.githubusercontent.com)|185.199.108.133|:443... connected.\n",
            "HTTP request sent, awaiting response... 200 OK\n",
            "Length: 9773 (9.5K) [text/plain]\n",
            "Saving to: ‘southampton_precip.txt’\n",
            "\n",
            "\rsouthampton_precip.   0%[                    ]       0  --.-KB/s               \rsouthampton_precip. 100%[===================>]   9.54K  --.-KB/s    in 0s      \n",
            "\n",
            "2022-04-11 18:16:52 (64.2 MB/s) - ‘southampton_precip.txt’ saved [9773/9773]\n",
            "\n"
          ]
        }
      ]
    },
    {
      "cell_type": "code",
      "source": [
        "!head /content/southampton_precip.txt"
      ],
      "metadata": {
        "id": "8uI-QxkO1NdS",
        "outputId": "7e523531-0fc2-4783-dafe-405eae903071",
        "colab": {
          "base_uri": "https://localhost:8080/"
        }
      },
      "execution_count": null,
      "outputs": [
        {
          "output_type": "stream",
          "name": "stdout",
          "text": [
            "#Year Jan  Feb  Mar  Apr  May  Jun  Jul  Aug  Sep  Oct  Nov  Dec\n",
            "1855 85.6 54.3 61.3 10.1 60.0 43.9 101.0 47.9 88.4 187.5 28.2 55.4\n",
            "1856 93.5 50.6 36.3 127.3 55.7 40.3 16.5 64.7 67.6 74.5 38.7 87.1\n",
            "1857 72.3 10.6 54.4 60.7 19.0 38.2 43.7 66.3 93.6 191.4 57.1 25.0\n",
            "1858 27.0 33.1 22.9 94.1 65.7 14.1 69.6 55.5 75.2 66.2 50.1 116.6\n",
            "1859 59.6 78.3 49.7 92.4 36.8 45.7 66.6 58.3 135.3 119.8 125.1 127.1\n",
            "1860 129.2 29.3 59.3 47.6 88.7 205.0 84.7 115.0 99.2 53.2 80.2 127.7\n",
            "1861 20.7 60.2 76.4 10.2 41.3 100.8 103.5 22.2 78.0 27.7 164.3 53.2\n",
            "1862 104.0 20.1 124.2 57.5 123.9 53.8 52.8 36.3 29.7 171.8 22.4 72.7\n",
            "1863 129.4 32.4 38.7 20.5 55.2 94.6 26.4 63.9 98.7 115.3 60.7 64.4\n"
          ]
        }
      ]
    },
    {
      "cell_type": "code",
      "source": [
        "import numpy "
      ],
      "metadata": {
        "id": "vfmAy3312GS9"
      },
      "execution_count": null,
      "outputs": []
    },
    {
      "cell_type": "code",
      "source": [
        "data = numpy.loadtxt('southampton_precip.txt')"
      ],
      "metadata": {
        "id": "WBNsAF232Jvx"
      },
      "execution_count": null,
      "outputs": []
    },
    {
      "cell_type": "code",
      "source": [
        "data\n"
      ],
      "metadata": {
        "id": "yLB5iuSn2TX5"
      },
      "execution_count": null,
      "outputs": []
    },
    {
      "cell_type": "code",
      "source": [
        "years = data[:, 0]"
      ],
      "metadata": {
        "id": "y904qCWy2Vfn"
      },
      "execution_count": null,
      "outputs": []
    },
    {
      "cell_type": "code",
      "source": [
        "rainfall = data[:, 1:]"
      ],
      "metadata": {
        "id": "OBdvqaDY2d8g"
      },
      "execution_count": null,
      "outputs": []
    },
    {
      "cell_type": "code",
      "source": [
        "%matplotlib inline\n",
        "from matplotlib import rcParams\n",
        "rcParams['figure.figsize']=(12,9)"
      ],
      "metadata": {
        "id": "AhxGJRvt2iJS"
      },
      "execution_count": null,
      "outputs": []
    },
    {
      "cell_type": "code",
      "source": [
        "from matplotlib import pyplot"
      ],
      "metadata": {
        "id": "HhV7u3iR2lSd"
      },
      "execution_count": null,
      "outputs": []
    },
    {
      "cell_type": "code",
      "source": [
        "pyplot.plot(years, rainfall[:,0])\n",
        "pyplot.xlabel('Year')\n",
        "pyplot.ylabel('Rainfall in January');"
      ],
      "metadata": {
        "id": "x9Tl-7m62n9K",
        "outputId": "a35bc547-bd90-44f1-9cff-367ce5ce99bb",
        "colab": {
          "base_uri": "https://localhost:8080/",
          "height": 551
        }
      },
      "execution_count": null,
      "outputs": [
        {
          "output_type": "display_data",
          "data": {
            "text/plain": [
              "<Figure size 864x648 with 1 Axes>"
            ],
            "image/png": "[encoded data removed]"
          },
          "metadata": {
            "needs_background": "light"
          }
        }
      ]
    },
    {
      "cell_type": "markdown",
      "source": [
        "### Basic statistical functions"
      ],
      "metadata": {
        "id": "QkFK8xy820qh"
      }
    },
    {
      "cell_type": "markdown",
      "source": [
        "basic statistical functions, such  min, max and mean"
      ],
      "metadata": {
        "id": "eP44m6TY24pu"
      }
    },
    {
      "cell_type": "code",
      "source": [
        "print(\"Minimum rainfall: {}\".format(rainfall.min()))\n",
        "print(\"Maximum rainfall: {}\".format(rainfall.max()))\n",
        "print(\"Mean rainfall: {}\".format(rainfall.mean()))"
      ],
      "metadata": {
        "id": "XPii6XOD28TL",
        "outputId": "e56e1a9f-556c-4312-ef0b-f44a4023b73e",
        "colab": {
          "base_uri": "https://localhost:8080/"
        }
      },
      "execution_count": null,
      "outputs": [
        {
          "output_type": "stream",
          "name": "stdout",
          "text": [
            "Minimum rainfall: 0.0\n",
            "Maximum rainfall: 280.7\n",
            "Mean rainfall: 67.03591954022988\n"
          ]
        }
      ]
    },
    {
      "cell_type": "markdown",
      "source": [
        "mean rainfall in the first year, 1855."
      ],
      "metadata": {
        "id": "HJGKMyRJ35xz"
      }
    },
    {
      "cell_type": "code",
      "source": [
        "print (\"Mean rainfall in 1855: {}\".format(rainfall[0, :].mean()))"
      ],
      "metadata": {
        "id": "2M4HGERS37ZM",
        "outputId": "b8d7e247-1cea-4551-dd05-765b659901ef",
        "colab": {
          "base_uri": "https://localhost:8080/"
        }
      },
      "execution_count": null,
      "outputs": [
        {
          "output_type": "stream",
          "name": "stdout",
          "text": [
            "Mean rainfall in 1855: 68.63333333333334\n"
          ]
        }
      ]
    },
    {
      "cell_type": "markdown",
      "source": [
        "mean rainfall in January"
      ],
      "metadata": {
        "id": "XkB1X2NA4HMK"
      }
    },
    {
      "cell_type": "code",
      "source": [
        "print (\"Mean rainfall in January: {}\".format(rainfall[:, 0].mean()))"
      ],
      "metadata": {
        "id": "HQvMyMZF4I0r",
        "outputId": "0ecac518-6559-440c-c36b-76f45b609fdd",
        "colab": {
          "base_uri": "https://localhost:8080/"
        }
      },
      "execution_count": null,
      "outputs": [
        {
          "output_type": "stream",
          "name": "stdout",
          "text": [
            "Mean rainfall in January: 81.86482758620689\n"
          ]
        }
      ]
    },
    {
      "cell_type": "markdown",
      "source": [
        "numpy allows us to apply a function along an axis of the array"
      ],
      "metadata": {
        "id": "FadrHZDG4fBs"
      }
    },
    {
      "cell_type": "code",
      "source": [
        "mean_rainfall_in_month = rainfall.mean(axis=0)\n",
        "mean_rainfall_per_year = rainfall.mean(axis=1)"
      ],
      "metadata": {
        "id": "cLR32d2i4Mi_"
      },
      "execution_count": null,
      "outputs": []
    },
    {
      "cell_type": "markdown",
      "source": [
        "plot how the mean "
      ],
      "metadata": {
        "id": "xfjwPaFO5SLZ"
      }
    },
    {
      "cell_type": "code",
      "source": [
        "pyplot.plot(years, mean_rainfall_per_year)\n",
        "pyplot.xlabel('Year')\n",
        "pyplot.ylabel('Mean rainfall');"
      ],
      "metadata": {
        "id": "iHHroWW045oM",
        "outputId": "084a9b03-1ea0-4ea6-c89b-5b809f6540f5",
        "colab": {
          "base_uri": "https://localhost:8080/",
          "height": 551
        }
      },
      "execution_count": null,
      "outputs": [
        {
          "output_type": "display_data",
          "data": {
            "text/plain": [
              "<Figure size 864x648 with 1 Axes>"
            ],
            "image/png": "[encoded data removed]"
          },
          "metadata": {
            "needs_background": "light"
          }
        }
      ]
    },
    {
      "cell_type": "markdown",
      "source": [
        "## Numpy "
      ],
      "metadata": {
        "id": "hTaFXxPn64zu"
      }
    },
    {
      "cell_type": "markdown",
      "source": [
        "Numpy is the core library for scientific computing in Python. It provides a high-performance multidimensional array object, and tools for working with these arrays. "
      ],
      "metadata": {
        "id": "89rGdW5n69W_"
      }
    },
    {
      "cell_type": "markdown",
      "source": [
        "### Arrays "
      ],
      "metadata": {
        "id": "gAXwo-m17DKv"
      }
    },
    {
      "cell_type": "code",
      "source": [
        "import numpy as np\n",
        "a = np.array([1, 2, 3])   \n",
        "print(type(a))            \n",
        "print(a.shape)            \n",
        "print(a[0], a[1], a[2])   \n",
        "a[0] = 5                  \n",
        "print(a)                  \n"
      ],
      "metadata": {
        "id": "xE0LLR9W7Ak1",
        "outputId": "5ac3a9f4-852e-416e-f7bc-2951c02b406a",
        "colab": {
          "base_uri": "https://localhost:8080/"
        }
      },
      "execution_count": null,
      "outputs": [
        {
          "output_type": "stream",
          "name": "stdout",
          "text": [
            "<class 'numpy.ndarray'>\n",
            "(3,)\n",
            "1 2 3\n",
            "[5 2 3]\n"
          ]
        }
      ]
    },
    {
      "cell_type": "code",
      "source": [
        "b = np.array([[1,2,3],[4,5,6]])\n",
        "print(b.shape)                 \n",
        "print(b[0, 0], b[0, 1], b[1, 0])"
      ],
      "metadata": {
        "id": "FZdGUoJZ7afr",
        "outputId": "45c39bfd-c3b6-4302-ac50-37ec18c13126",
        "colab": {
          "base_uri": "https://localhost:8080/"
        }
      },
      "execution_count": null,
      "outputs": [
        {
          "output_type": "stream",
          "name": "stdout",
          "text": [
            "(2, 3)\n",
            "1 2 4\n"
          ]
        }
      ]
    },
    {
      "cell_type": "markdown",
      "source": [
        "####  functions to create array"
      ],
      "metadata": {
        "id": "fdts6awT7jEk"
      }
    },
    {
      "cell_type": "code",
      "source": [
        "import numpy as np\n",
        "\n",
        "a = np.zeros((2,2))   \n",
        "print(a)              \n",
        "                     \n",
        "\n",
        "b = np.ones((1,2))    \n",
        "print(b)              \n",
        "\n",
        "c = np.full((2,2), 7)  \n",
        "print(c)              \n",
        "                       \n",
        "d = np.eye(2)         \n",
        "print(d)             \n",
        "                     \n",
        "\n",
        "e = np.random.random((2,2))  \n",
        "print(e)                    "
      ],
      "metadata": {
        "id": "I1BxOga97kgI",
        "outputId": "2a541f21-438e-4ad2-a955-de7c2b473ade",
        "colab": {
          "base_uri": "https://localhost:8080/"
        }
      },
      "execution_count": null,
      "outputs": [
        {
          "output_type": "stream",
          "name": "stdout",
          "text": [
            "[[0. 0.]\n",
            " [0. 0.]]\n",
            "[[1. 1.]]\n",
            "[[7 7]\n",
            " [7 7]]\n",
            "[[1. 0.]\n",
            " [0. 1.]]\n",
            "[[0.01495198 0.80564447]\n",
            " [0.61820876 0.17048403]]\n"
          ]
        }
      ]
    },
    {
      "cell_type": "markdown",
      "source": [
        "### Datatypes "
      ],
      "metadata": {
        "id": "UXaaOIGNfPo-"
      }
    },
    {
      "cell_type": "markdown",
      "source": [
        " Numpy provides a large set of numeric datatypes that you can use to construct arrays."
      ],
      "metadata": {
        "id": "Szc3so5vfVjv"
      }
    },
    {
      "cell_type": "code",
      "source": [
        "import numpy as np\n",
        "x = np.array([1, 2])\n",
        "print(x.dtype) \n",
        "\n",
        "x = np.array([1.0, 2.0])\n",
        "print(x.dtype)  \n",
        "# Force a particular datatype\n",
        "x = np.array([1, 2], dtype=np.int64) \n",
        "print(x.dtype) \n",
        "## all about numpy datatypes\n",
        "## https://numpy.org/doc/stable/reference/arrays.dtypes.html "
      ],
      "metadata": {
        "id": "pHLx6KzZfFuw",
        "outputId": "b7341b4e-78dc-4b1d-dd6f-ab950fda962c",
        "colab": {
          "base_uri": "https://localhost:8080/"
        }
      },
      "execution_count": 1,
      "outputs": [
        {
          "output_type": "stream",
          "name": "stdout",
          "text": [
            "int64\n",
            "float64\n",
            "int64\n"
          ]
        }
      ]
    },
    {
      "cell_type": "markdown",
      "source": [
        "### Array math "
      ],
      "metadata": {
        "id": "N-XiJy8vgL0m"
      }
    },
    {
      "cell_type": "code",
      "source": [
        "import numpy as np\n",
        "\n",
        "x = np.array([[1,2],[3,4]], dtype=np.float64)\n",
        "y = np.array([[5,6],[7,8]], dtype=np.float64)\n",
        "print('Elementwise sum; both produce the array')\n",
        "print(x + y)\n",
        "print(np.add(x, y))\n",
        "print('----------------------------------------')\n",
        "print('Elementwise difference; both produce the array')\n",
        "print(x - y)\n",
        "print(np.subtract(x, y))\n",
        "print('----------------------------------------')\n",
        "print('Elementwise product; both produce the array')\n",
        "print(x * y)\n",
        "print(np.multiply(x, y))\n",
        "print('----------------------------------------')\n",
        "print('Elementwise division; both produce the array')\n",
        "print(x / y)\n",
        "print(np.divide(x, y))\n",
        "\n",
        "print('Elementwise square root')\n",
        "print(np.sqrt(x))\n"
      ],
      "metadata": {
        "id": "Cp4Ya9CggOFO",
        "outputId": "effbaebe-4782-461f-f1e1-b3e2455aadd8",
        "colab": {
          "base_uri": "https://localhost:8080/"
        }
      },
      "execution_count": 3,
      "outputs": [
        {
          "output_type": "stream",
          "name": "stdout",
          "text": [
            "Elementwise sum; both produce the array\n",
            "[[ 6.  8.]\n",
            " [10. 12.]]\n",
            "[[ 6.  8.]\n",
            " [10. 12.]]\n",
            "----------------------------------------\n",
            "Elementwise difference; both produce the array\n",
            "[[-4. -4.]\n",
            " [-4. -4.]]\n",
            "[[-4. -4.]\n",
            " [-4. -4.]]\n",
            "----------------------------------------\n",
            "Elementwise product; both produce the array\n",
            "[[ 5. 12.]\n",
            " [21. 32.]]\n",
            "[[ 5. 12.]\n",
            " [21. 32.]]\n",
            "----------------------------------------\n",
            "Elementwise division; both produce the array\n",
            "[[0.2        0.33333333]\n",
            " [0.42857143 0.5       ]]\n",
            "[[0.2        0.33333333]\n",
            " [0.42857143 0.5       ]]\n",
            "Elementwise square root\n",
            "[[1.         1.41421356]\n",
            " [1.73205081 2.        ]]\n"
          ]
        }
      ]
    },
    {
      "cell_type": "markdown",
      "source": [
        "'*' is elementwise multiplication, not matrix multiplication. We instead use the dot function to compute inner products of vectors, to multiply a vector by a matrix, and to multiply matrices."
      ],
      "metadata": {
        "id": "TSLQ1R60hPDG"
      }
    },
    {
      "cell_type": "code",
      "source": [
        "import numpy as np\n",
        "\n",
        "x = np.array([[1,2],[3,4]])\n",
        "y = np.array([[5,6],[7,8]])\n",
        "\n",
        "v = np.array([9,10])\n",
        "w = np.array([11, 12])\n",
        "\n",
        "# Inner product of vectors; both produce 219\n",
        "print(v.dot(w))\n",
        "print(np.dot(v, w))\n",
        "\n",
        "# Matrix / vector product; both produce the rank 1 array [29 67]\n",
        "print(x.dot(v))\n",
        "print(np.dot(x, v))\n",
        "\n",
        "# Matrix / matrix product; both produce the rank 2 array\n",
        "# [[19 22]\n",
        "#  [43 50]]\n",
        "print(x.dot(y))\n",
        "print(np.dot(x, y))\n"
      ],
      "metadata": {
        "id": "oXfA_3uFhSce",
        "outputId": "fe3d0f7b-53db-4442-8570-50d1d8c638e4",
        "colab": {
          "base_uri": "https://localhost:8080/"
        }
      },
      "execution_count": 4,
      "outputs": [
        {
          "output_type": "stream",
          "name": "stdout",
          "text": [
            "219\n",
            "219\n",
            "[29 67]\n",
            "[29 67]\n",
            "[[19 22]\n",
            " [43 50]]\n",
            "[[19 22]\n",
            " [43 50]]\n"
          ]
        }
      ]
    },
    {
      "cell_type": "markdown",
      "source": [
        "transpose a matrix, simply use the T attribute of an array object:"
      ],
      "metadata": {
        "id": "in6lQ4zThnBr"
      }
    },
    {
      "cell_type": "code",
      "source": [
        "import numpy as np\n",
        "\n",
        "x = np.array([[1,2], [3,4]])\n",
        "print(x)    # Prints \"[[1 2]\n",
        "            #          [3 4]]\"\n",
        "print(x.T)  # Prints \"[[1 3]\n",
        "            #          [2 4]]\"\n",
        "\n",
        "# Note that taking the transpose of a rank 1 array does nothing:\n",
        "v = np.array([1,2,3])\n",
        "print(v)    # Prints \"[1 2 3]\"\n",
        "print(v.T)  # Prints \"[1 2 3]\""
      ],
      "metadata": {
        "id": "qf8Mems-htdN",
        "outputId": "6f797cbc-9e2f-44fb-d0b3-effc51c12752",
        "colab": {
          "base_uri": "https://localhost:8080/"
        }
      },
      "execution_count": 5,
      "outputs": [
        {
          "output_type": "stream",
          "name": "stdout",
          "text": [
            "[[1 2]\n",
            " [3 4]]\n",
            "[[1 3]\n",
            " [2 4]]\n",
            "[1 2 3]\n",
            "[1 2 3]\n"
          ]
        }
      ]
    },
    {
      "cell_type": "markdown",
      "source": [
        "## Referencia\n",
        "[Common Python Data Structures](https://realpython.com/python-data-structures/)\n",
        "\n",
        "[Maths With Python](https://buildmedia.readthedocs.org/media/pdf/maths-with-python/latest/maths-with-python.pdf)\n",
        "\n",
        "[Python Numpy Tutorial](https://cs231n.github.io/python-numpy-tutorial/)"
      ],
      "metadata": {
        "id": "IbZ6x6BH5AZ-"
      }
    }
  ]
}