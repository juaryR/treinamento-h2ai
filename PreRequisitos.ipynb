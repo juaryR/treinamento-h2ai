{
  "nbformat": 4,
  "nbformat_minor": 0,
  "metadata": {
    "colab": {
      "name": "PreRequisitos.ipynb",
      "provenance": [],
      "collapsed_sections": [],
      "authorship_tag": "ABX9TyNNCxoC4FxglVx+9z8jhdNP"
    },
    "kernelspec": {
      "name": "python3",
      "display_name": "Python 3"
    },
    "language_info": {
      "name": "python"
    }
  },
  "cells": [
    {
      "cell_type": "markdown",
      "source": [
        "[![Open In Colab](https://colab.research.google.com/assets/colab-badge.svg)](https://colab.research.google.com/github/juaryR/treinamento-h2ai/blob/main/PreRequisitos.ipynb)"
      ],
      "metadata": {
        "id": "tsJ1dc5ApwZE"
      }
    },
    {
      "cell_type": "markdown",
      "source": [
        "# Data structures"
      ],
      "metadata": {
        "id": "frB1eKjZwL5N"
      }
    },
    {
      "cell_type": "markdown",
      "source": [
        "Data structures are the fundamental constructs around which you build your programs.\n",
        "\n"
      ],
      "metadata": {
        "id": "hZtKZtMpwS2Y"
      }
    },
    {
      "cell_type": "markdown",
      "source": [
        "##  Dictionaries"
      ],
      "metadata": {
        "id": "iAyqAfsNwZFH"
      }
    },
    {
      "cell_type": "markdown",
      "source": [
        "### Dict"
      ],
      "metadata": {
        "id": "-WLeTnDD4QAp"
      }
    },
    {
      "cell_type": "code",
      "execution_count": 3,
      "metadata": {
        "id": "XCYACtWwm4fC"
      },
      "outputs": [],
      "source": [
        "phonebook  = {\n",
        "    \"bob\": 7387,\n",
        "    \"alice\":3719,\n",
        "    \"jack\": 7052,\n",
        "}\n",
        "squares = {x: x*x for x in range(6)}"
      ]
    },
    {
      "cell_type": "code",
      "source": [
        "phonebook['alice']"
      ],
      "metadata": {
        "colab": {
          "base_uri": "https://localhost:8080/"
        },
        "id": "lhGNlNJhwLiz",
        "outputId": "b65f7859-3f11-4244-961b-fa57afd750bb"
      },
      "execution_count": 4,
      "outputs": [
        {
          "output_type": "execute_result",
          "data": {
            "text/plain": [
              "3719"
            ]
          },
          "metadata": {},
          "execution_count": 4
        }
      ]
    },
    {
      "cell_type": "code",
      "source": [
        "squares"
      ],
      "metadata": {
        "colab": {
          "base_uri": "https://localhost:8080/"
        },
        "id": "BMDE5MCjxLNG",
        "outputId": "0ddfa56f-c459-42bc-942f-410a3ce3dd27"
      },
      "execution_count": 5,
      "outputs": [
        {
          "output_type": "execute_result",
          "data": {
            "text/plain": [
              "{0: 0, 1: 1, 2: 4, 3: 9, 4: 16, 5: 25}"
            ]
          },
          "metadata": {},
          "execution_count": 5
        }
      ]
    },
    {
      "cell_type": "markdown",
      "source": [
        "Python’s dictionaries are indexed by keys that can be of any hashable type. A hashable object has a hash value that never changes during its lifetime (see __hash__), and it can be compared to other objects (see __eq__). Hashable objects that compare as equal must have the same hash value."
      ],
      "metadata": {
        "id": "qvnkYWQexWET"
      }
    },
    {
      "cell_type": "markdown",
      "source": [
        "### Collections"
      ],
      "metadata": {
        "id": "iJXoz8ksyBOZ"
      }
    },
    {
      "cell_type": "markdown",
      "source": [
        "#### OrderedDict "
      ],
      "metadata": {
        "id": "Wwukxfl5zXfs"
      }
    },
    {
      "cell_type": "markdown",
      "source": [
        "Python includes a specialized dict subclass that remembers the insertion order of keys added to it: collections.OrderedDict."
      ],
      "metadata": {
        "id": "XTYQtafJyeCr"
      }
    },
    {
      "cell_type": "code",
      "source": [
        "from collections import OrderedDict\n",
        "d = OrderedDict(one=1, two=2, three=3) \n",
        "d"
      ],
      "metadata": {
        "colab": {
          "base_uri": "https://localhost:8080/"
        },
        "id": "Qx_knvCAx_mC",
        "outputId": "ea9d8463-9565-4942-d83d-2cacf8d1d5ed"
      },
      "execution_count": 9,
      "outputs": [
        {
          "output_type": "execute_result",
          "data": {
            "text/plain": [
              "OrderedDict([('one', 1), ('two', 2), ('three', 3)])"
            ]
          },
          "metadata": {},
          "execution_count": 9
        }
      ]
    },
    {
      "cell_type": "code",
      "source": [
        "d[\"four\"] = 4\n",
        "d"
      ],
      "metadata": {
        "colab": {
          "base_uri": "https://localhost:8080/"
        },
        "id": "8_AK_EoGyyWr",
        "outputId": "e2a78c1f-af5d-4d6d-fa99-03aa595cb2a3"
      },
      "execution_count": 10,
      "outputs": [
        {
          "output_type": "execute_result",
          "data": {
            "text/plain": [
              "OrderedDict([('one', 1), ('two', 2), ('three', 3), ('four', 4)])"
            ]
          },
          "metadata": {},
          "execution_count": 10
        }
      ]
    },
    {
      "cell_type": "code",
      "source": [
        "d.keys()"
      ],
      "metadata": {
        "colab": {
          "base_uri": "https://localhost:8080/"
        },
        "id": "yv4JwLpZy7Uj",
        "outputId": "0d79ecdf-900f-4a61-fb9e-8dcedf59801b"
      },
      "execution_count": 11,
      "outputs": [
        {
          "output_type": "execute_result",
          "data": {
            "text/plain": [
              "odict_keys(['one', 'two', 'three', 'four'])"
            ]
          },
          "metadata": {},
          "execution_count": 11
        }
      ]
    },
    {
      "cell_type": "markdown",
      "source": [
        "#### defauldict"
      ],
      "metadata": {
        "id": "pV526GuczbeA"
      }
    },
    {
      "cell_type": "markdown",
      "source": [
        "The defaultdict class is another dictionary subclass that accepts a callable in its constructor whose return value will be used if a requested key cannot be found."
      ],
      "metadata": {
        "id": "6gQD7Mjgzkc8"
      }
    },
    {
      "cell_type": "code",
      "source": [
        "from collections import defaultdict\n",
        "dd = defaultdict(list)\n",
        "# Accessing a missing key creates it and\n",
        "# initializes it using the default factory,\n",
        "# i.e. list() in this example:\n",
        "dd[\"dogs\"].append(\"Rufus\")\n",
        "dd[\"dogs\"].append(\"Kathrin\")\n",
        "dd[\"dogs\"].append(\"Mr Sniffles\")\n",
        "dd[\"dogs\"]"
      ],
      "metadata": {
        "colab": {
          "base_uri": "https://localhost:8080/"
        },
        "id": "8NPwUn0JxNRf",
        "outputId": "128f409f-e0c4-4290-c19b-be6cc977696c"
      },
      "execution_count": 12,
      "outputs": [
        {
          "output_type": "execute_result",
          "data": {
            "text/plain": [
              "['Rufus', 'Kathrin', 'Mr Sniffles']"
            ]
          },
          "metadata": {},
          "execution_count": 12
        }
      ]
    },
    {
      "cell_type": "markdown",
      "source": [
        "#### ChainMap  "
      ],
      "metadata": {
        "id": "_rgUb6FS1TJE"
      }
    },
    {
      "cell_type": "markdown",
      "source": [
        "The collections.ChainMap data structure groups multiple dictionaries into a single mapping. Lookups search the underlying mappings one by one until a key is found. "
      ],
      "metadata": {
        "id": "-BGXxVqf1au1"
      }
    },
    {
      "cell_type": "code",
      "source": [
        "from collections import ChainMap\n",
        "dict1 = {\"one\": 1, \"two\": 2}\n",
        "dict2 = {\"three\": 3, \"four\": 4}\n",
        "chain = ChainMap(dict1, dict2)\n",
        "print(chain)\n",
        "# ChainMap searches each collection in the chain\n",
        "# from left to right until it finds the key (or fails):\n",
        "print(chain[\"three\"])\n",
        "print(chain[\"one\"])\n",
        "print(chain[\"missing\"])"
      ],
      "metadata": {
        "colab": {
          "base_uri": "https://localhost:8080/",
          "height": 401
        },
        "id": "B3JE1Tax1BLY",
        "outputId": "1eb123c9-e5c4-40a0-8f54-dc1d10bd98d7"
      },
      "execution_count": 17,
      "outputs": [
        {
          "output_type": "stream",
          "name": "stdout",
          "text": [
            "ChainMap({'one': 1, 'two': 2}, {'three': 3, 'four': 4})\n",
            "3\n",
            "1\n"
          ]
        },
        {
          "output_type": "error",
          "ename": "KeyError",
          "evalue": "ignored",
          "traceback": [
            "\u001b[0;31m---------------------------------------------------------------------------\u001b[0m",
            "\u001b[0;31mKeyError\u001b[0m                                  Traceback (most recent call last)",
            "\u001b[0;32m<ipython-input-17-441bbe54959f>\u001b[0m in \u001b[0;36m<module>\u001b[0;34m()\u001b[0m\n\u001b[1;32m      8\u001b[0m \u001b[0mprint\u001b[0m\u001b[0;34m(\u001b[0m\u001b[0mchain\u001b[0m\u001b[0;34m[\u001b[0m\u001b[0;34m\"three\"\u001b[0m\u001b[0;34m]\u001b[0m\u001b[0;34m)\u001b[0m\u001b[0;34m\u001b[0m\u001b[0;34m\u001b[0m\u001b[0m\n\u001b[1;32m      9\u001b[0m \u001b[0mprint\u001b[0m\u001b[0;34m(\u001b[0m\u001b[0mchain\u001b[0m\u001b[0;34m[\u001b[0m\u001b[0;34m\"one\"\u001b[0m\u001b[0;34m]\u001b[0m\u001b[0;34m)\u001b[0m\u001b[0;34m\u001b[0m\u001b[0;34m\u001b[0m\u001b[0m\n\u001b[0;32m---> 10\u001b[0;31m \u001b[0mprint\u001b[0m\u001b[0;34m(\u001b[0m\u001b[0mchain\u001b[0m\u001b[0;34m[\u001b[0m\u001b[0;34m\"missing\"\u001b[0m\u001b[0;34m]\u001b[0m\u001b[0;34m)\u001b[0m\u001b[0;34m\u001b[0m\u001b[0;34m\u001b[0m\u001b[0m\n\u001b[0m",
            "\u001b[0;32m/usr/lib/python3.7/collections/__init__.py\u001b[0m in \u001b[0;36m__getitem__\u001b[0;34m(self, key)\u001b[0m\n\u001b[1;32m    914\u001b[0m             \u001b[0;32mexcept\u001b[0m \u001b[0mKeyError\u001b[0m\u001b[0;34m:\u001b[0m\u001b[0;34m\u001b[0m\u001b[0;34m\u001b[0m\u001b[0m\n\u001b[1;32m    915\u001b[0m                 \u001b[0;32mpass\u001b[0m\u001b[0;34m\u001b[0m\u001b[0;34m\u001b[0m\u001b[0m\n\u001b[0;32m--> 916\u001b[0;31m         \u001b[0;32mreturn\u001b[0m \u001b[0mself\u001b[0m\u001b[0;34m.\u001b[0m\u001b[0m__missing__\u001b[0m\u001b[0;34m(\u001b[0m\u001b[0mkey\u001b[0m\u001b[0;34m)\u001b[0m            \u001b[0;31m# support subclasses that define __missing__\u001b[0m\u001b[0;34m\u001b[0m\u001b[0;34m\u001b[0m\u001b[0m\n\u001b[0m\u001b[1;32m    917\u001b[0m \u001b[0;34m\u001b[0m\u001b[0m\n\u001b[1;32m    918\u001b[0m     \u001b[0;32mdef\u001b[0m \u001b[0mget\u001b[0m\u001b[0;34m(\u001b[0m\u001b[0mself\u001b[0m\u001b[0;34m,\u001b[0m \u001b[0mkey\u001b[0m\u001b[0;34m,\u001b[0m \u001b[0mdefault\u001b[0m\u001b[0;34m=\u001b[0m\u001b[0;32mNone\u001b[0m\u001b[0;34m)\u001b[0m\u001b[0;34m:\u001b[0m\u001b[0;34m\u001b[0m\u001b[0;34m\u001b[0m\u001b[0m\n",
            "\u001b[0;32m/usr/lib/python3.7/collections/__init__.py\u001b[0m in \u001b[0;36m__missing__\u001b[0;34m(self, key)\u001b[0m\n\u001b[1;32m    906\u001b[0m \u001b[0;34m\u001b[0m\u001b[0m\n\u001b[1;32m    907\u001b[0m     \u001b[0;32mdef\u001b[0m \u001b[0m__missing__\u001b[0m\u001b[0;34m(\u001b[0m\u001b[0mself\u001b[0m\u001b[0;34m,\u001b[0m \u001b[0mkey\u001b[0m\u001b[0;34m)\u001b[0m\u001b[0;34m:\u001b[0m\u001b[0;34m\u001b[0m\u001b[0;34m\u001b[0m\u001b[0m\n\u001b[0;32m--> 908\u001b[0;31m         \u001b[0;32mraise\u001b[0m \u001b[0mKeyError\u001b[0m\u001b[0;34m(\u001b[0m\u001b[0mkey\u001b[0m\u001b[0;34m)\u001b[0m\u001b[0;34m\u001b[0m\u001b[0;34m\u001b[0m\u001b[0m\n\u001b[0m\u001b[1;32m    909\u001b[0m \u001b[0;34m\u001b[0m\u001b[0m\n\u001b[1;32m    910\u001b[0m     \u001b[0;32mdef\u001b[0m \u001b[0m__getitem__\u001b[0m\u001b[0;34m(\u001b[0m\u001b[0mself\u001b[0m\u001b[0;34m,\u001b[0m \u001b[0mkey\u001b[0m\u001b[0;34m)\u001b[0m\u001b[0;34m:\u001b[0m\u001b[0;34m\u001b[0m\u001b[0;34m\u001b[0m\u001b[0m\n",
            "\u001b[0;31mKeyError\u001b[0m: 'missing'"
          ]
        }
      ]
    },
    {
      "cell_type": "markdown",
      "source": [
        "## types"
      ],
      "metadata": {
        "id": "amEgzLnU2eSD"
      }
    },
    {
      "cell_type": "markdown",
      "source": [
        "### MappingProxyType"
      ],
      "metadata": {
        "id": "T1ndkIWe2kFt"
      }
    },
    {
      "cell_type": "code",
      "source": [
        "from types import MappingProxyType\n",
        "writable = {\"one\": 1, \"two\": 2}\n",
        "read_only = MappingProxyType(writable)\n",
        "# The proxy is read-only:\n",
        "print(read_only[\"one\"])\n",
        "read_only[\"one\"] = 23\n"
      ],
      "metadata": {
        "colab": {
          "base_uri": "https://localhost:8080/",
          "height": 256
        },
        "id": "4aMaCIzG2jrH",
        "outputId": "1cf512a1-67c4-482f-871b-d817cae50a99"
      },
      "execution_count": 20,
      "outputs": [
        {
          "output_type": "stream",
          "name": "stdout",
          "text": [
            "1\n"
          ]
        },
        {
          "output_type": "error",
          "ename": "TypeError",
          "evalue": "ignored",
          "traceback": [
            "\u001b[0;31m---------------------------------------------------------------------------\u001b[0m",
            "\u001b[0;31mTypeError\u001b[0m                                 Traceback (most recent call last)",
            "\u001b[0;32m<ipython-input-20-4e07d138c923>\u001b[0m in \u001b[0;36m<module>\u001b[0;34m()\u001b[0m\n\u001b[1;32m      4\u001b[0m \u001b[0;31m# The proxy is read-only:\u001b[0m\u001b[0;34m\u001b[0m\u001b[0;34m\u001b[0m\u001b[0;34m\u001b[0m\u001b[0m\n\u001b[1;32m      5\u001b[0m \u001b[0mprint\u001b[0m\u001b[0;34m(\u001b[0m\u001b[0mread_only\u001b[0m\u001b[0;34m[\u001b[0m\u001b[0;34m\"one\"\u001b[0m\u001b[0;34m]\u001b[0m\u001b[0;34m)\u001b[0m\u001b[0;34m\u001b[0m\u001b[0;34m\u001b[0m\u001b[0m\n\u001b[0;32m----> 6\u001b[0;31m \u001b[0mread_only\u001b[0m\u001b[0;34m[\u001b[0m\u001b[0;34m\"one\"\u001b[0m\u001b[0;34m]\u001b[0m \u001b[0;34m=\u001b[0m \u001b[0;36m23\u001b[0m\u001b[0;34m\u001b[0m\u001b[0;34m\u001b[0m\u001b[0m\n\u001b[0m\u001b[1;32m      7\u001b[0m \u001b[0;31m# Updates to the original are reflected in the proxy:\u001b[0m\u001b[0;34m\u001b[0m\u001b[0;34m\u001b[0m\u001b[0;34m\u001b[0m\u001b[0m\n\u001b[1;32m      8\u001b[0m \u001b[0mwritable\u001b[0m\u001b[0;34m[\u001b[0m\u001b[0;34m\"one\"\u001b[0m\u001b[0;34m]\u001b[0m \u001b[0;34m=\u001b[0m \u001b[0;36m42\u001b[0m\u001b[0;34m\u001b[0m\u001b[0;34m\u001b[0m\u001b[0m\n",
            "\u001b[0;31mTypeError\u001b[0m: 'mappingproxy' object does not support item assignment"
          ]
        }
      ]
    },
    {
      "cell_type": "code",
      "source": [
        "# Updates to the original are reflected in the proxy:\n",
        "writable[\"one\"] = 42\n",
        "read_only"
      ],
      "metadata": {
        "colab": {
          "base_uri": "https://localhost:8080/"
        },
        "id": "wVcwMe1k2fxW",
        "outputId": "928338e3-9569-4567-ef95-c64c994d6ec2"
      },
      "execution_count": 21,
      "outputs": [
        {
          "output_type": "execute_result",
          "data": {
            "text/plain": [
              "mappingproxy({'one': 42, 'two': 2})"
            ]
          },
          "metadata": {},
          "execution_count": 21
        }
      ]
    },
    {
      "cell_type": "markdown",
      "source": [
        "### Dictionaries in Python: Summary"
      ],
      "metadata": {
        "id": "pSe324nO3rTC"
      }
    },
    {
      "cell_type": "markdown",
      "source": [
        "All the Python dictionary implementations listed in this tutorial are valid implementations that are built into the Python standard library.\n",
        "\n",
        "If you’re looking for a general recommendation on which mapping type to use in your programs, I’d point you to the built-in dict data type. It’s a versatile and optimized hash table implementation that’s built directly into the core language."
      ],
      "metadata": {
        "id": "CSNqsMHd3zUd"
      }
    },
    {
      "cell_type": "markdown",
      "source": [
        "## Array Data Structures"
      ],
      "metadata": {
        "id": "ZJh-2No_36KO"
      }
    },
    {
      "cell_type": "markdown",
      "source": [
        "### array"
      ],
      "metadata": {
        "id": "0rvN9na76hMy"
      }
    },
    {
      "cell_type": "markdown",
      "source": [
        "Python’s array module provides space-efficient storage of basic C-style data types like bytes, 32-bit integers, floating-point numbers, and so on."
      ],
      "metadata": {
        "id": "DMdl1E4R6ltK"
      }
    },
    {
      "cell_type": "code",
      "source": [
        "import array\n",
        "arr = array.array(\"f\", (1.0, 1.5, 2.0, 2.5))\n",
        "print(arr[1])\n",
        "# Arrays have a nice repr:\n",
        "print(arr)\n",
        "# Arrays are mutable:\n",
        "arr[1] = 23.0\n",
        "print(arr)\n",
        "del arr[1]\n",
        "print(arr)\n",
        "arr.append(42.0)\n",
        "print(arr)\n",
        "# Arrays are \"typed\":\n",
        "arr[1] = \"hello\""
      ],
      "metadata": {
        "colab": {
          "base_uri": "https://localhost:8080/",
          "height": 291
        },
        "id": "A5A1cpOl3-zO",
        "outputId": "5b26e991-113a-4227-d848-492c273d580e"
      },
      "execution_count": 27,
      "outputs": [
        {
          "output_type": "stream",
          "name": "stdout",
          "text": [
            "1.5\n",
            "array('f', [1.0, 1.5, 2.0, 2.5])\n",
            "array('f', [1.0, 23.0, 2.0, 2.5])\n",
            "array('f', [1.0, 2.0, 2.5])\n",
            "array('f', [1.0, 2.0, 2.5, 42.0])\n"
          ]
        },
        {
          "output_type": "error",
          "ename": "TypeError",
          "evalue": "ignored",
          "traceback": [
            "\u001b[0;31m---------------------------------------------------------------------------\u001b[0m",
            "\u001b[0;31mTypeError\u001b[0m                                 Traceback (most recent call last)",
            "\u001b[0;32m<ipython-input-27-9888f882e99b>\u001b[0m in \u001b[0;36m<module>\u001b[0;34m()\u001b[0m\n\u001b[1;32m     12\u001b[0m \u001b[0mprint\u001b[0m\u001b[0;34m(\u001b[0m\u001b[0marr\u001b[0m\u001b[0;34m)\u001b[0m\u001b[0;34m\u001b[0m\u001b[0;34m\u001b[0m\u001b[0m\n\u001b[1;32m     13\u001b[0m \u001b[0;31m# Arrays are \"typed\":\u001b[0m\u001b[0;34m\u001b[0m\u001b[0;34m\u001b[0m\u001b[0;34m\u001b[0m\u001b[0m\n\u001b[0;32m---> 14\u001b[0;31m \u001b[0marr\u001b[0m\u001b[0;34m[\u001b[0m\u001b[0;36m1\u001b[0m\u001b[0;34m]\u001b[0m \u001b[0;34m=\u001b[0m \u001b[0;34m\"hello\"\u001b[0m\u001b[0;34m\u001b[0m\u001b[0;34m\u001b[0m\u001b[0m\n\u001b[0m",
            "\u001b[0;31mTypeError\u001b[0m: must be real number, not str"
          ]
        }
      ]
    },
    {
      "cell_type": "markdown",
      "source": [
        "## Scientific Python "
      ],
      "metadata": {
        "id": "BtnHQjmtJCfu"
      }
    },
    {
      "cell_type": "code",
      "source": [
        ""
      ],
      "metadata": {
        "id": "5Jfx8I3jJE-E"
      },
      "execution_count": null,
      "outputs": []
    },
    {
      "cell_type": "markdown",
      "source": [
        "## Referencia\n",
        "[Common Python Data Structures](https://realpython.com/python-data-structures/)\n",
        "\n",
        "[Maths With Python](https://buildmedia.readthedocs.org/media/pdf/maths-with-python/latest/maths-with-python.pdf)\n",
        "\n",
        "[Python Data Structures ](https://cs231n.github.io/python-numpy-tutorial/)"
      ],
      "metadata": {
        "id": "IbZ6x6BH5AZ-"
      }
    },
    {
      "cell_type": "code",
      "source": [
        ""
      ],
      "metadata": {
        "id": "NWU4D1V-5gId"
      },
      "execution_count": null,
      "outputs": []
    }
  ]
}