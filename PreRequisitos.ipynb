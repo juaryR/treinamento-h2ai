{
  "nbformat": 4,
  "nbformat_minor": 0,
  "metadata": {
    "colab": {
      "name": "PreRequisitos.ipynb",
      "provenance": [],
      "collapsed_sections": [],
      "authorship_tag": "ABX9TyMlVZKZBWrEZBtvqaXzIF1Z"
    },
    "kernelspec": {
      "name": "python3",
      "display_name": "Python 3"
    },
    "language_info": {
      "name": "python"
    }
  },
  "cells": [
    {
      "cell_type": "markdown",
      "source": [
        "[![Open In Colab](https://colab.research.google.com/assets/colab-badge.svg)](https://colab.research.google.com/github/juaryR/treinamento-h2ai/blob/main/PreRequisitos.ipynb)"
      ],
      "metadata": {
        "id": "tsJ1dc5ApwZE"
      }
    },
    {
      "cell_type": "code",
      "execution_count": null,
      "metadata": {
        "id": "XCYACtWwm4fC"
      },
      "outputs": [],
      "source": [
        ""
      ]
    }
  ]
}